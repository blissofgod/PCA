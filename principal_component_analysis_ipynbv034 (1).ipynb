{
  "cells": [
    {
      "cell_type": "markdown",
      "source": [
        "파이썬코드로 이미지의 pca구하기 "
      ],
      "metadata": {
        "id": "r3WB63aV05wy"
      },
      "id": "r3WB63aV05wy"
    },
    {
      "cell_type": "code",
      "execution_count": null,
      "id": "80f4b4b4",
      "metadata": {
        "id": "80f4b4b4",
        "colab": {
          "base_uri": "https://localhost:8080/",
          "height": 443
        },
        "outputId": "2a8a4218-aac1-4572-9f08-e86aa3189a56"
      },
      "outputs": [
        {
          "output_type": "stream",
          "name": "stderr",
          "text": [
            "/usr/local/lib/python3.10/dist-packages/sklearn/datasets/_openml.py:968: FutureWarning: The default value of `parser` will change from `'liac-arff'` to `'auto'` in 1.4. You can set `parser='auto'` to silence this warning. Therefore, an `ImportError` will be raised from 1.4 if the dataset is dense and pandas is not installed. Note that the pandas parser may return different data types. See the Notes Section in fetch_openml's API doc for details.\n",
            "  warn(\n"
          ]
        },
        {
          "output_type": "stream",
          "name": "stdout",
          "text": [
            "(70000, 784)\n"
          ]
        },
        {
          "output_type": "display_data",
          "data": {
            "text/plain": [
              "<Figure size 400x400 with 1 Axes>"
            ],
            "image/png": "[encoded data removed]"
          },
          "metadata": {}
        }
      ],
      "source": [
        "import numpy as np\n",
        "import scipy\n",
        "import scipy.stats\n",
        "from sklearn.datasets import fetch_openml\n",
        "import matplotlib.pyplot as plt\n",
        "from ipywidgets import interact\n",
        "import pandas as pd\n",
        "#plt.style.use('fivethirtyeight')\n",
        "\n",
        "MNIST = fetch_openml('mnist_784', version=1)\n",
        "images = MNIST['data'].to_numpy().astype(np.double) / 255\n",
        "print(images.shape)\n",
        "\n",
        "plt.figure(figsize=(4,4))\n",
        "plt.imshow(images[0].reshape(28,28), cmap='gray')\n",
        "plt.grid(False)"
      ]
    },
    {
      "cell_type": "markdown",
      "source": [
        "데이터 분산1로 만들기기"
      ],
      "metadata": {
        "id": "Os9zzEFZzv3m"
      },
      "id": "Os9zzEFZzv3m"
    },
    {
      "cell_type": "markdown",
      "source": [
        "차원수는  784개 28*28\n",
        "\n",
        "1차원 배열 x,y,z는 3차원 "
      ],
      "metadata": {
        "id": "WLIWSz3DoBo5"
      },
      "id": "WLIWSz3DoBo5"
    },
    {
      "cell_type": "markdown",
      "id": "7b22c6cb",
      "metadata": {
        "id": "7b22c6cb"
      },
      "source": [
        "### 주성분 분석 알고리즘(PCA)\n",
        "\n",
        "1. Data normalization\n",
        "2. Covariance matrix 의 eigenvalue, eigenvector 계산    \n",
        "3. Principal components 에 해당하는 각 벡터의 기저공간에 데이터 사영"
      ]
    },
    {
      "cell_type": "markdown",
      "source": [
        "평균0으로 만들기기"
      ],
      "metadata": {
        "id": "JIGToFhazskn"
      },
      "id": "JIGToFhazskn"
    },
    {
      "cell_type": "code",
      "execution_count": null,
      "id": "a92739f3",
      "metadata": {
        "id": "a92739f3"
      },
      "outputs": [],
      "source": [
        "# 1. Normalization\n",
        "\n",
        "def normalize(X):\n",
        "    N, D = X.shape\n",
        "    mu = np.mean(X, axis=0)  # 평균값 계산\n",
        "    X = X - mu  # 중심화\n",
        "    return X, mu\n",
        "\n",
        "images_=images[:10000]\n",
        "\n",
        "N=images_.shape[0]\n",
        "##데이터 중심화 적용\n",
        "\n",
        "X_normalized, mean = normalize(images_)\n",
        "##공분산 행렬 구하기\n",
        "S = (X_normalized.T @ X_normalized) \n"
      ]
    },
    {
      "cell_type": "markdown",
      "source": [
        "고유벡터 및 고유 값구하기기"
      ],
      "metadata": {
        "id": "gpY_9XRz0A53"
      },
      "id": "gpY_9XRz0A53"
    },
    {
      "cell_type": "code",
      "execution_count": null,
      "id": "2a39092d",
      "metadata": {
        "id": "2a39092d"
      },
      "outputs": [],
      "source": [
        "# 2. Covariance matrix 의 eigenvalue, eigenvector 계산\n",
        "\n",
        "def eig(S):\n",
        "    eig_vals, eig_vecs = np.linalg.eig(S)\n",
        "    sort_indices = np.argsort(eig_vals)[::-1] # 내림차순 정렬\n",
        "    return eig_vals[sort_indices], eig_vecs[:, sort_indices]\n",
        "eig_vals, eig_vecs = eig(S)\n"
      ]
    },
    {
      "cell_type": "code",
      "source": [
        "def eig(S):\n",
        "    eig_vals, eig_vecs = np.linalg.eig(S)\n",
        "    sort_indices = np.argsort(eig_vals)[::-1] # 내림차순 정렬\n",
        "    return eig_vals[sort_indices], eig_vecs[:, sort_indices]"
      ],
      "metadata": {
        "id": "NmQj3Q2bPSsf"
      },
      "id": "NmQj3Q2bPSsf",
      "execution_count": null,
      "outputs": []
    },
    {
      "cell_type": "code",
      "source": [
        "images_.shape[0]"
      ],
      "metadata": {
        "colab": {
          "base_uri": "https://localhost:8080/"
        },
        "id": "ryF5E3GagVt8",
        "outputId": "36f8e0f2-6bfa-4034-cdbc-fa6f7322bd97"
      },
      "id": "ryF5E3GagVt8",
      "execution_count": null,
      "outputs": [
        {
          "output_type": "execute_result",
          "data": {
            "text/plain": [
              "10000"
            ]
          },
          "metadata": {},
          "execution_count": 10
        }
      ]
    },
    {
      "cell_type": "markdown",
      "source": [
        "전치행렬과 데이터 곱하기기"
      ],
      "metadata": {
        "id": "Y6VnWFHQ0D2e"
      },
      "id": "Y6VnWFHQ0D2e"
    },
    {
      "cell_type": "code",
      "execution_count": null,
      "id": "15a21532",
      "metadata": {
        "id": "15a21532"
      },
      "outputs": [],
      "source": [
        "# 3. Principal components 에 해당하는 각 벡터의 기저공간에 데이터 사영\n",
        "\n",
        "def reconstruct(X, PC):\n",
        "    return (X @ PC) @ PC.T # vector projection "
      ]
    },
    {
      "cell_type": "code",
      "source": [
        "def normalize(X):\n",
        "    N, D = X.shape\n",
        "    mu = np.mean(X, axis=0) ##데이터의 평균값\n",
        "    Xbar = X - mu ##데이터 중심화\n",
        "    return Xbar, mu \n",
        "# 1. Normalization\n",
        "X_normalized, mean = normalize(images[0].reshape(28,28))\n",
        "\n",
        "plt.figure(figsize=(4,4))\n",
        "plt.imshow(X_normalized, cmap='gray')\n",
        "plt.grid(False)"
      ],
      "metadata": {
        "id": "2CE76HFozrFr",
        "colab": {
          "base_uri": "https://localhost:8080/",
          "height": 368
        },
        "outputId": "f30c0bca-d72d-4e7d-fe40-c7c8da78a1cc"
      },
      "id": "2CE76HFozrFr",
      "execution_count": null,
      "outputs": [
        {
          "output_type": "display_data",
          "data": {
            "text/plain": [
              "<Figure size 400x400 with 1 Axes>"
            ],
            "image/png": "[encoded data removed]"
          },
          "metadata": {}
        }
      ]
    },
    {
      "cell_type": "code",
      "source": [
        "import numpy as np\n",
        "\n",
        "# 이미지를 불러옵니다.\n",
        "image = images[0].reshape(28,28)\n",
        "\n",
        "# 이미지를 열 방향으로 정규화합니다.\n",
        "# axis=0은 세로 방향으로 정규화하겠다는 의미입니다.\n",
        "image_normalized = (image - np.mean(image, axis=0)) / np.std(image, axis=0, ddof=1)\n",
        "\n",
        "# 분산이 0인 부분은 그대로 두기 위해서 np.nan_to_num 함수를 사용합니다.\n",
        "image_normalized = np.nan_to_num(image_normalized)\n",
        "\n",
        "# 이미지의 분산을 확인합니다.\n",
        "print(np.var(image_normalized, axis=0))"
      ],
      "metadata": {
        "colab": {
          "base_uri": "https://localhost:8080/"
        },
        "id": "P0-pec6eTN8s",
        "outputId": "5b0ec96b-1f0d-4504-9b4a-cf7b8d34ed47"
      },
      "id": "P0-pec6eTN8s",
      "execution_count": null,
      "outputs": [
        {
          "output_type": "stream",
          "name": "stdout",
          "text": [
            "[0.         0.         0.         0.         0.96428571 0.96428571\n",
            " 0.96428571 0.96428571 0.96428571 0.96428571 0.96428571 0.96428571\n",
            " 0.96428571 0.96428571 0.96428571 0.96428571 0.96428571 0.96428571\n",
            " 0.96428571 0.96428571 0.96428571 0.96428571 0.96428571 0.96428571\n",
            " 0.         0.         0.         0.        ]\n"
          ]
        },
        {
          "output_type": "stream",
          "name": "stderr",
          "text": [
            "<ipython-input-23-3295121f1ec6>:8: RuntimeWarning: invalid value encountered in true_divide\n",
            "  image_normalized = (image - np.mean(image, axis=0)) / np.std(image, axis=0, ddof=1)\n"
          ]
        }
      ]
    },
    {
      "cell_type": "code",
      "source": [
        "img = image_normalized\n",
        "\n",
        "\n",
        "# 이미지를 numpy 배열로 변환합니다.\n",
        "img_arr = np.array(img)\n",
        "\n",
        "# 이미지의 분산을 계산합니다.\n",
        "var = np.var(img_arr, axis=(0, 1))\n",
        "\n",
        "# 분산 값을 출력합니다.\n",
        "print(var)"
      ],
      "metadata": {
        "colab": {
          "base_uri": "https://localhost:8080/"
        },
        "id": "gwwO4xdAT626",
        "outputId": "fc3195a4-4998-4971-e29a-ec48226a9bac"
      },
      "id": "gwwO4xdAT626",
      "execution_count": null,
      "outputs": [
        {
          "output_type": "stream",
          "name": "stdout",
          "text": [
            "0.6887755102040817\n"
          ]
        }
      ]
    },
    {
      "cell_type": "code",
      "source": [
        "def PCA_Avatar(images, num_components, num_data=4000):\n",
        "    X = images[:num_data] # 4000개의 데이터만 사용\n",
        "    N, D = X.shape # N은 데이터의 갯수 D는 데이터의 크기\n",
        "    \n",
        "    def normalize(X):\n",
        "      mu = np.mean(X, axis=0)  # 평균값 계산\n",
        "      X = X - mu  # 중심화\n",
        "      return X ,mu\n",
        "  \n",
        "    X_normalized ,mean= normalize(X) # 중심화 적용\n",
        "\n",
        "    \n",
        "    S = (X_normalized.T @ X_normalized) / N # 공분산행렬구하기\n",
        "    \n",
        "    def eig(S):\n",
        "      eig_vals, eig_vecs = np.linalg.eig(S) # 고유값 및 고유벡터 구하기\n",
        "      sort_indices = np.argsort(eig_vals)[::-1] # 내림차순 정렬\n",
        "      return eig_vals[sort_indices], eig_vecs[:, sort_indices] \n",
        "    eig_vals, eig_vecs = eig(S) # 고유값 구하기\n",
        "  \n",
        "    def reconstruct(X, PC):\n",
        "      return (X @ PC) @ PC.T # 데이터 복원\n",
        "\n",
        "    principal_vals= np.real(eig_vals[:num_components]) # 고유값 갯수 줄이기\n",
        "    principal_components =np.real(eig_vecs[:,:num_components]) # 고유벡터 갯수 줄이기\n",
        "    reconst_X = reconstruct(X_normalized, principal_components) + mean # 데이터복원\n",
        "    \n",
        "    #복원 데이터,분산 리턴\n",
        "    return reconst_X, principal_vals"
      ],
      "metadata": {
        "id": "XK7-QzDV5d-z"
      },
      "id": "XK7-QzDV5d-z",
      "execution_count": null,
      "outputs": []
    },
    {
      "cell_type": "code",
      "source": [
        "_, Dispersion = PCA_Avatar(images, 784) # 분산을 가져오기\n",
        "Dispersion=Dispersion/np.sum(Dispersion) # 분산을 100분률로 변경\n",
        "cumsum = np.cumsum(Dispersion) # 분산 누적합을 구함\n",
        "d= np.argmax(cumsum>=0.96)+1 ##데이터의 96%를 표현한 주성분갯수 \n",
        "print(\"데이터의 96%를 표현한 주성분의 갯수는 =\",d,'입니다.')"
      ],
      "metadata": {
        "colab": {
          "base_uri": "https://localhost:8080/"
        },
        "id": "Br6ikOgyCob_",
        "outputId": "f90853b7-1aef-4fda-dae9-4daa0472e3f7"
      },
      "id": "Br6ikOgyCob_",
      "execution_count": null,
      "outputs": [
        {
          "output_type": "stream",
          "name": "stdout",
          "text": [
            "데이터의 96%를 표현한 주성분의 갯수는 = 171 입니다.\n"
          ]
        }
      ]
    },
    {
      "cell_type": "code",
      "source": [
        "count=np.array(10)"
      ],
      "metadata": {
        "id": "CrwwfRvuN4DB"
      },
      "id": "CrwwfRvuN4DB",
      "execution_count": null,
      "outputs": []
    },
    {
      "cell_type": "markdown",
      "source": [
        "pca 구하기기"
      ],
      "metadata": {
        "id": "mL4vdE5-0Oh_"
      },
      "id": "mL4vdE5-0Oh_"
    },
    {
      "cell_type": "markdown",
      "source": [
        "pca 데이터 압축 시각화화"
      ],
      "metadata": {
        "id": "fAIg0xWo0Pit"
      },
      "id": "fAIg0xWo0Pit"
    },
    {
      "cell_type": "code",
      "source": [
        "num_images_to_show = 10 # 10개의 이미지만 출력\n",
        "reconst_X, _= PCA_Avatar(images, 171) # pca구현함수 실행\n",
        "\n",
        "origin_image = np.reshape(images[:num_images_to_show], (-1, 28, 28)) # 원본 이미지\n",
        "reconst_image = np.reshape(reconst_X[:num_images_to_show], (-1, 28, 28)) # 복원 이미지\n",
        "fig, ax = plt.subplots(2, 1, figsize=(num_images_to_show * 3, 3)) # 이미지 사이즈 조정\n",
        "\n",
        "ax[0].imshow(np.concatenate(origin_image, -1), cmap=\"gray\") # 원본 이미지 출력\n",
        "ax[1].imshow(np.concatenate(reconst_image, -1), cmap=\"gray\") # 복원 이미지 출력"
      ],
      "metadata": {
        "colab": {
          "base_uri": "https://localhost:8080/",
          "height": 313
        },
        "id": "nio4xn9kCNxz",
        "outputId": "d0c9edfa-2860-4ae3-fc51-953f1aa24125"
      },
      "id": "nio4xn9kCNxz",
      "execution_count": null,
      "outputs": [
        {
          "output_type": "execute_result",
          "data": {
            "text/plain": [
              "<matplotlib.image.AxesImage at 0x7fcb5a18e950>"
            ]
          },
          "metadata": {},
          "execution_count": 54
        },
        {
          "output_type": "display_data",
          "data": {
            "text/plain": [
              "<Figure size 3000x300 with 2 Axes>"
            ],
            "image/png": "[encoded data removed]"
          },
          "metadata": {}
        }
      ]
    },
    {
      "cell_type": "markdown",
      "source": [
        "행렬의 곱구현하기##중요부분"
      ],
      "metadata": {
        "id": "_gf05kYP1a6I"
      },
      "id": "_gf05kYP1a6I"
    },
    {
      "cell_type": "code",
      "source": [
        "def matrix_multiplication(X, PC):\n",
        "    return X.dot(PC) # vector projection "
      ],
      "metadata": {
        "id": "9zWqzDGz5syU"
      },
      "id": "9zWqzDGz5syU",
      "execution_count": null,
      "outputs": []
    },
    {
      "cell_type": "markdown",
      "source": [
        "pca를 구하는 이유: https://specialscene.tistory.com/11"
      ],
      "metadata": {
        "id": "Grj23rO__3K1"
      },
      "id": "Grj23rO__3K1"
    },
    {
      "cell_type": "markdown",
      "source": [
        "pca구하는 과정:https://big-dream-world.tistory.com/102\n",
        "\n"
      ],
      "metadata": {
        "id": "mt_VAPtMnMkh"
      },
      "id": "mt_VAPtMnMkh"
    },
    {
      "cell_type": "markdown",
      "source": [
        "pca를 사용하는 이유: 차원의 저주에서를 해결      \n",
        "다중 공산성해결:변수 간의 상관관계가 높을때 발생\n",
        "----0-----0-- 1:\n",
        "-0--------0-- 2:\n",
        "-0--0-----0-- 분석값\n",
        "\n",
        "x1가 0.5설명 \n",
        "x2가 0.4설명 0.6 설명하지만 0.9설명한다고 착각함\n",
        "겹치는부분(상관계수) 0.3라면? \n",
        "설명력을 작아져야하는데 작아지지않음"
      ],
      "metadata": {
        "id": "968sJ6A5AI5b"
      },
      "id": "968sJ6A5AI5b"
    },
    {
      "cell_type": "markdown",
      "source": [
        "sklearn pca 구현하기"
      ],
      "metadata": {
        "id": "d73QaJ4NiL6q"
      },
      "id": "d73QaJ4NiL6q"
    },
    {
      "cell_type": "code",
      "source": [
        "from sklearn.decomposition import PCA\n",
        "pca = PCA(n_components=171)\n",
        "images_=images[:4000] \n",
        "X2D= pca.fit_transform(images_)"
      ],
      "metadata": {
        "id": "9j6PeNkiGoXc"
      },
      "id": "9j6PeNkiGoXc",
      "execution_count": null,
      "outputs": []
    },
    {
      "cell_type": "code",
      "source": [
        "X2D.shape"
      ],
      "metadata": {
        "id": "z88PK2VaHAhD",
        "colab": {
          "base_uri": "https://localhost:8080/"
        },
        "outputId": "f3ca57f2-bb56-458a-8b44-e931de216fbd"
      },
      "id": "z88PK2VaHAhD",
      "execution_count": null,
      "outputs": [
        {
          "output_type": "execute_result",
          "data": {
            "text/plain": [
              "(4000, 784)"
            ]
          },
          "metadata": {},
          "execution_count": 110
        }
      ]
    },
    {
      "cell_type": "markdown",
      "source": [
        "정확도 96%까지 구하기"
      ],
      "metadata": {
        "id": "-zcpmFZHiSYY"
      },
      "id": "-zcpmFZHiSYY"
    },
    {
      "cell_type": "code",
      "source": [
        "cumsum = np.cumsum(pca.explained_variance_ratio_)\n",
        "d= np.argmax(cumsum>=0.96)+1\n",
        "print(\"정확도96%인경우=\",d)"
      ],
      "metadata": {
        "id": "N-LbJGGgHMhN",
        "colab": {
          "base_uri": "https://localhost:8080/"
        },
        "outputId": "0eb3460e-a7ae-40e4-82a2-384d88121a15"
      },
      "id": "N-LbJGGgHMhN",
      "execution_count": null,
      "outputs": [
        {
          "output_type": "stream",
          "name": "stdout",
          "text": [
            "정확도96%인경우= 171\n"
          ]
        }
      ]
    },
    {
      "cell_type": "code",
      "source": [],
      "metadata": {
        "id": "lYXpZjtivSr5"
      },
      "id": "lYXpZjtivSr5",
      "execution_count": null,
      "outputs": []
    },
    {
      "cell_type": "markdown",
      "source": [
        "784개까지 존재함"
      ],
      "metadata": {
        "id": "3wnAFb1-p7Xa"
      },
      "id": "3wnAFb1-p7Xa"
    },
    {
      "cell_type": "code",
      "source": [
        "print(pca.explained_variance_ratio_[0:41:1])"
      ],
      "metadata": {
        "id": "0N_RKq_arIdw"
      },
      "id": "0N_RKq_arIdw",
      "execution_count": null,
      "outputs": []
    },
    {
      "cell_type": "markdown",
      "source": [
        "784개까지의 모든합"
      ],
      "metadata": {
        "id": "EN5LdbLhqFY4"
      },
      "id": "EN5LdbLhqFY4"
    },
    {
      "cell_type": "code",
      "source": [
        "print(cumsum[0:41:1])"
      ],
      "metadata": {
        "id": "2jFheM75rblQ"
      },
      "id": "2jFheM75rblQ",
      "execution_count": null,
      "outputs": []
    },
    {
      "cell_type": "code",
      "source": [
        "cumsum[149]\n",
        "## 파이썬의 부동소수점 계산은 반올림을 합니다."
      ],
      "metadata": {
        "id": "Gkf-yxB4sE3S"
      },
      "id": "Gkf-yxB4sE3S",
      "execution_count": null,
      "outputs": []
    },
    {
      "cell_type": "code",
      "source": [
        "cumsum.shape"
      ],
      "metadata": {
        "id": "4aK9suQJnt4R"
      },
      "id": "4aK9suQJnt4R",
      "execution_count": null,
      "outputs": []
    },
    {
      "cell_type": "code",
      "source": [
        "#pca = PCA(n_components=0.96)\n",
        "#X_reduced = pca.fit_transform(images)"
      ],
      "metadata": {
        "id": "K1TZYiY6HMmr"
      },
      "id": "K1TZYiY6HMmr",
      "execution_count": null,
      "outputs": []
    },
    {
      "cell_type": "markdown",
      "source": [
        "전체정확도의 0.96 그래프 그리기"
      ],
      "metadata": {
        "id": "JFzM0hr6KMCa"
      },
      "id": "JFzM0hr6KMCa"
    },
    {
      "cell_type": "code",
      "source": [
        "fig, ax = plt.subplots(figsize=(10, 3))\n",
        "ax.plot(cumsum);\n",
        "ax.axvline(d, linestyle='--', color='r', linewidth=2)\n",
        "ax.axhline(0.96, linestyle='--', color='r', linewidth=2)\n",
        "ax.xaxis.set_ticks(np.arange(0, 784, 50));\n",
        "ax.set(xlabel='Dispersion', ylabel='accuracy', title='accuracy');"
      ],
      "metadata": {
        "id": "ura1O0rfnemZ",
        "colab": {
          "base_uri": "https://localhost:8080/",
          "height": 333
        },
        "outputId": "5dc82b3e-dab3-4847-c37a-1c481c38d695"
      },
      "id": "ura1O0rfnemZ",
      "execution_count": null,
      "outputs": [
        {
          "output_type": "display_data",
          "data": {
            "text/plain": [
              "<Figure size 1000x300 with 1 Axes>"
            ],
            "image/png": "[encoded data removed]"
          },
          "metadata": {}
        }
      ]
    },
    {
      "cell_type": "code",
      "source": [
        "print(pca.components_.shape)"
      ],
      "metadata": {
        "id": "2d83De5Pzx3G"
      },
      "id": "2d83De5Pzx3G",
      "execution_count": null,
      "outputs": []
    },
    {
      "cell_type": "markdown",
      "source": [
        "주성분 171개로 만들기"
      ],
      "metadata": {
        "id": "A5sTIew8jE7I"
      },
      "id": "A5sTIew8jE7I"
    },
    {
      "cell_type": "code",
      "source": [
        "from sklearn.decomposition import PCA\n",
        "pca = PCA(n_components=171)\n",
        "images_=images[:1000]\n",
        "x_restor=pca.fit_transform(images_)\n",
        "num_images_to_show=10\n",
        "print(\"정규화된 행렬\",x_restor.shape)\n",
        "X_normalized, mean = normalize(x_restor)\n",
        "\n",
        "print(\"주성분 \",pca.components_.shape)\n",
        "def matrix_multiplication(X, PC):\n",
        "    return X.dot(PC) # vector projection "
      ],
      "metadata": {
        "id": "YNJtRYw63G-T",
        "colab": {
          "base_uri": "https://localhost:8080/"
        },
        "outputId": "83ccfbe0-1d22-4547-a59e-02db138503d8"
      },
      "id": "YNJtRYw63G-T",
      "execution_count": null,
      "outputs": [
        {
          "output_type": "stream",
          "name": "stdout",
          "text": [
            "정규화된 행렬 (1000, 171)\n",
            "주성분  (171, 784)\n"
          ]
        }
      ]
    },
    {
      "cell_type": "code",
      "source": [
        "reconst_image = np.reshape(pca.components_[:10], (-1, 28, 28)) ## 다른 이미지\n",
        "fig, ax = plt.subplots(2, 1, figsize=(num_images_to_show * 3, 3))\n",
        "ax[1].imshow(np.concatenate(reconst_image, -1), cmap=\"gray\")\n"
      ],
      "metadata": {
        "id": "z_ZS0wbMym8V",
        "colab": {
          "base_uri": "https://localhost:8080/",
          "height": 211
        },
        "outputId": "f5e53705-6263-4b83-bff4-fd94230a161b"
      },
      "id": "z_ZS0wbMym8V",
      "execution_count": null,
      "outputs": [
        {
          "output_type": "execute_result",
          "data": {
            "text/plain": [
              "<matplotlib.image.AxesImage at 0x7fdc6b6693f0>"
            ]
          },
          "metadata": {},
          "execution_count": 108
        },
        {
          "output_type": "display_data",
          "data": {
            "text/plain": [
              "<Figure size 3000x300 with 2 Axes>"
            ],
            "image/png": "[encoded data removed]"
          },
          "metadata": {}
        }
      ]
    },
    {
      "cell_type": "markdown",
      "source": [
        "정규화한 그림과 주성분 그림을 행렬의 곱을 구함"
      ],
      "metadata": {
        "id": "FYnhUAbTcK6m"
      },
      "id": "FYnhUAbTcK6m"
    },
    {
      "cell_type": "markdown",
      "source": [
        "주성분149개 주성분\n"
      ],
      "metadata": {
        "id": "PQzqCshU0kDt"
      },
      "id": "PQzqCshU0kDt"
    },
    {
      "cell_type": "markdown",
      "source": [
        "sklearn에 내장된 코드"
      ],
      "metadata": {
        "id": "cwWLiUHKYfyA"
      },
      "id": "cwWLiUHKYfyA"
    },
    {
      "cell_type": "code",
      "source": [
        "from sklearn.decomposition import PCA\n",
        "pca = PCA(n_components=171) # 171개 주성분 적용\n",
        "images_=images[:4000] # 4000개의 데이터 적용\n",
        "x_restor=pca.fit_transform(images_) # PCA적용\n",
        "\n",
        "print(\"pca를 적용한 결과\",x_restor.shape) # pca를 적용한 행렬의 크기\n",
        "X_normalized, mean = normalize(x_restor)\n",
        "print(\"주성분 벡터\",pca.components_.shape) # 주성분 벡터의 크기기\n",
        "def matrix_multiplication(X, PC): \n",
        "    return X.dot(PC) # 행렬의 곱을 통해 데이터복원"
      ],
      "metadata": {
        "colab": {
          "base_uri": "https://localhost:8080/"
        },
        "id": "PgsnziXTy9dC",
        "outputId": "cbf573b2-a09c-4e78-ec58-9f3c4206873c"
      },
      "id": "PgsnziXTy9dC",
      "execution_count": null,
      "outputs": [
        {
          "output_type": "stream",
          "name": "stdout",
          "text": [
            "pca를 적용한 결과 (4000, 171)\n",
            "주성분 벡터 (171, 784)\n"
          ]
        }
      ]
    },
    {
      "cell_type": "code",
      "source": [
        "reconst_X = matrix_multiplication(x_restor,pca.components_) # 이미지로 복원하기 \n",
        "_,mean=normalize(images_)\n",
        "reconst_X=reconst_X+mean\n",
        "reconst_image_skl = np.reshape(reconst_X[:num_images_to_show], (-1, 28, 28)) # 사이킷런으로 복원한 이미지\n",
        "fig, ax = plt.subplots(2, 1, figsize=(num_images_to_show * 3, 3))\n",
        "\n",
        "\n",
        "ax[0].imshow(np.concatenate(reconst_image, -1), cmap=\"gray\") # PCA구현함수로 복원한 이미지 출력\n",
        "\n",
        "ax[1].imshow(np.concatenate(reconst_image_skl, -1), cmap=\"gray\") # 사이킷런으로 복원한 이미지 출력\n"
      ],
      "metadata": {
        "colab": {
          "base_uri": "https://localhost:8080/",
          "height": 313
        },
        "id": "xBPTP-K0y_FE",
        "outputId": "ef1405cd-5ed2-4405-85b2-eb98d2717891"
      },
      "id": "xBPTP-K0y_FE",
      "execution_count": null,
      "outputs": [
        {
          "output_type": "execute_result",
          "data": {
            "text/plain": [
              "<matplotlib.image.AxesImage at 0x7fcb359a4580>"
            ]
          },
          "metadata": {},
          "execution_count": 58
        },
        {
          "output_type": "display_data",
          "data": {
            "text/plain": [
              "<Figure size 3000x300 with 2 Axes>"
            ],
            "image/png": "[encoded data removed]"
          },
          "metadata": {}
        }
      ]
    },
    {
      "cell_type": "markdown",
      "source": [
        "파이썬을 통해 구현한 코드"
      ],
      "metadata": {
        "id": "kEo5PMHLYXOD"
      },
      "id": "kEo5PMHLYXOD"
    },
    {
      "cell_type": "code",
      "source": [
        "# PCA 데이터 압축 시각화\n",
        "count=np.array(10)\n",
        "@interact(NUM_PC=(1, 784), continuous_update=False)\n",
        "def plot_pca_images(NUM_PC=149):\n",
        "    num_images_to_show = 10\n",
        "    reconst_X, _, _, to = PCA_(images, NUM_PC)\n",
        "    origin_image = np.reshape(images[:num_images_to_show], (-1, 28, 28)) ## 현재 이미지\n",
        "    reconst_image = np.reshape(reconst_X[:num_images_to_show], (-1, 28, 28)) ## 다른 이미지\n",
        "    fig, ax = plt.subplots(2, 1, figsize=(num_images_to_show * 3, 3))\n",
        "    ax[1].imshow(np.concatenate(reconst_image, -1), cmap=\"gray\")"
      ],
      "metadata": {
        "id": "xh34_o953gFT",
        "colab": {
          "base_uri": "https://localhost:8080/",
          "height": 248
        },
        "outputId": "8cd5bfd5-2fe1-497a-f8f7-04e89455672d"
      },
      "id": "xh34_o953gFT",
      "execution_count": null,
      "outputs": [
        {
          "output_type": "error",
          "ename": "NameError",
          "evalue": "ignored",
          "traceback": [
            "\u001b[0;31m---------------------------------------------------------------------------\u001b[0m",
            "\u001b[0;31mNameError\u001b[0m                                 Traceback (most recent call last)",
            "\u001b[0;32m<ipython-input-2-061757072d57>\u001b[0m in \u001b[0;36m<cell line: 2>\u001b[0;34m()\u001b[0m\n\u001b[1;32m      1\u001b[0m \u001b[0;31m# PCA 데이터 압축 시각화\u001b[0m\u001b[0;34m\u001b[0m\u001b[0;34m\u001b[0m\u001b[0m\n\u001b[0;32m----> 2\u001b[0;31m \u001b[0mcount\u001b[0m\u001b[0;34m=\u001b[0m\u001b[0mnp\u001b[0m\u001b[0;34m.\u001b[0m\u001b[0marray\u001b[0m\u001b[0;34m(\u001b[0m\u001b[0;36m10\u001b[0m\u001b[0;34m)\u001b[0m\u001b[0;34m\u001b[0m\u001b[0;34m\u001b[0m\u001b[0m\n\u001b[0m\u001b[1;32m      3\u001b[0m \u001b[0;34m@\u001b[0m\u001b[0minteract\u001b[0m\u001b[0;34m(\u001b[0m\u001b[0mNUM_PC\u001b[0m\u001b[0;34m=\u001b[0m\u001b[0;34m(\u001b[0m\u001b[0;36m1\u001b[0m\u001b[0;34m,\u001b[0m \u001b[0;36m784\u001b[0m\u001b[0;34m)\u001b[0m\u001b[0;34m,\u001b[0m \u001b[0mcontinuous_update\u001b[0m\u001b[0;34m=\u001b[0m\u001b[0;32mFalse\u001b[0m\u001b[0;34m)\u001b[0m\u001b[0;34m\u001b[0m\u001b[0;34m\u001b[0m\u001b[0m\n\u001b[1;32m      4\u001b[0m \u001b[0;32mdef\u001b[0m \u001b[0mplot_pca_images\u001b[0m\u001b[0;34m(\u001b[0m\u001b[0mNUM_PC\u001b[0m\u001b[0;34m=\u001b[0m\u001b[0;36m149\u001b[0m\u001b[0;34m)\u001b[0m\u001b[0;34m:\u001b[0m\u001b[0;34m\u001b[0m\u001b[0;34m\u001b[0m\u001b[0m\n\u001b[1;32m      5\u001b[0m     \u001b[0mnum_images_to_show\u001b[0m \u001b[0;34m=\u001b[0m \u001b[0;36m10\u001b[0m\u001b[0;34m\u001b[0m\u001b[0;34m\u001b[0m\u001b[0m\n",
            "\u001b[0;31mNameError\u001b[0m: name 'np' is not defined"
          ]
        }
      ]
    }
  ],
  "metadata": {
    "kernelspec": {
      "display_name": "Python 3",
      "language": "python",
      "name": "python3"
    },
    "language_info": {
      "codemirror_mode": {
        "name": "ipython",
        "version": 3
      },
      "file_extension": ".py",
      "mimetype": "text/x-python",
      "name": "python",
      "nbconvert_exporter": "python",
      "pygments_lexer": "ipython3",
      "version": "3.8.7"
    },
    "colab": {
      "provenance": []
    }
  },
  "nbformat": 4,
  "nbformat_minor": 5
}